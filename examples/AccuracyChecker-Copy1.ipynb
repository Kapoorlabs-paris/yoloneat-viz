{
 "cells": [
  {
   "cell_type": "code",
   "execution_count": 1,
   "metadata": {},
   "outputs": [],
   "source": [
    "import sys\n",
    "import os\n",
    "import glob\n",
    "sys.path.append(\"../\")\n",
    "from yoloneatviz import HolovizNapari\n",
    "import os\n",
    "from pathlib import Path\n",
    "import pandas as pd\n",
    "import matplotlib.pyplot  as plt\n",
    "from natsort import natsorted\n",
    "import numpy as np"
   ]
  },
  {
   "cell_type": "code",
   "execution_count": 7,
   "metadata": {},
   "outputs": [
    {
     "data": {
      "image/png": "[encoded data removed]",
      "text/plain": [
       "<Figure size 432x288 with 1 Axes>"
      ]
     },
     "metadata": {
      "needs_background": "light"
     },
     "output_type": "display_data"
    },
    {
     "data": {
      "text/html": [
       "<div>\n",
       "<style scoped>\n",
       "    .dataframe tbody tr th:only-of-type {\n",
       "        vertical-align: middle;\n",
       "    }\n",
       "\n",
       "    .dataframe tbody tr th {\n",
       "        vertical-align: top;\n",
       "    }\n",
       "\n",
       "    .dataframe thead th {\n",
       "        text-align: right;\n",
       "    }\n",
       "</style>\n",
       "<table border=\"1\" class=\"dataframe\">\n",
       "  <thead>\n",
       "    <tr style=\"text-align: right;\">\n",
       "      <th></th>\n",
       "      <th>MovieName</th>\n",
       "      <th>NetworkName</th>\n",
       "      <th>CellType</th>\n",
       "      <th>True Positives</th>\n",
       "      <th>False Positives</th>\n",
       "    </tr>\n",
       "  </thead>\n",
       "  <tbody>\n",
       "    <tr>\n",
       "      <th>0</th>\n",
       "      <td>DivisionLocationwt_mov12_SW30</td>\n",
       "      <td>Divisionm5p4</td>\n",
       "      <td>Division</td>\n",
       "      <td>79.2145</td>\n",
       "      <td>0.5171</td>\n",
       "    </tr>\n",
       "  </tbody>\n",
       "</table>\n",
       "</div>"
      ],
      "text/plain": [
       "                       MovieName   NetworkName  CellType True Positives  \\\n",
       "0  DivisionLocationwt_mov12_SW30  Divisionm5p4  Division        79.2145   \n",
       "\n",
       "  False Positives  \n",
       "0          0.5171  "
      ]
     },
     "execution_count": 7,
     "metadata": {},
     "output_type": "execute_result"
    }
   ],
   "source": [
    "thresholdspace = 20\n",
    "thresholdtime = 4\n",
    "thresholdscore = 1 -  1.0E-4\n",
    "MovieName = []\n",
    "NetworkName = []\n",
    "CellName = []\n",
    "Accuracy = []\n",
    "FPAccuracy = []\n",
    "resultsdir = '/Users/aimachine/oneat_analysis/WildType/AccuracyResults/'\n",
    "Path(resultsdir).mkdir(exist_ok=True)\n",
    "csv_gt = '/Users/aimachine/oneat_analysis/WildType/DivisionLocationwt_mov12_SW30.csv'\n",
    "csv_pred = '/Users/aimachine/oneat_analysis/WildType/Oldd29f32_hmap_th20/DivisionLocationwt_mov12_SW30.csv'\n",
    "Name = os.path.basename(os.path.splitext(csv_pred)[0])\n",
    "tp, fp = HolovizNapari.TruePositives(csv_gt, csv_pred, thresholdscore = thresholdscore, thresholdspace = thresholdspace, thresholdtime = thresholdtime)\n",
    "MovieName.append(Name)\n",
    "NetworkName.append('Divisionm5p4')\n",
    "CellName.append('Division')\n",
    "Accuracy.append(str('%.4f'%tp))\n",
    "FPAccuracy.append(str('%.4f'%fp))\n",
    "\n",
    "df = pd.DataFrame(list(zip(MovieName,NetworkName,CellName,Accuracy, FPAccuracy)), index = None, \n",
    "                                                                      columns =['MovieName', 'NetworkName', 'CellType',  'True Positives', 'False Positives'])\n",
    "                        \n",
    "df.to_csv(resultsdir + '/' + 'DivisionDynamicAccuracy' +  '.csv')  \n",
    "df\n",
    "\n",
    "Accuracy = natsorted(Accuracy, reverse = True)\n",
    "FPAccuracy = natsorted(FPAccuracy, reverse = True)\n",
    "colors = np.random.rand(len(Accuracy))\n",
    "plt.scatter(NetworkName, Accuracy,  alpha=0.5, c = colors)\n",
    "\n",
    "colors = np.random.rand(len(FPAccuracy))\n",
    "plt.scatter(NetworkName, FPAccuracy,  alpha=0.5, c = colors)\n",
    "plt.savefig(resultsdir + '/' + 'FullDynamicaccuracy' + '.png', dpi = 300)\n",
    "plt.show()\n",
    "df"
   ]
  },
  {
   "cell_type": "markdown",
   "metadata": {},
   "source": []
  }
 ],
 "metadata": {
  "kernelspec": {
   "display_name": "Python [conda env:testenv] *",
   "language": "python",
   "name": "conda-env-testenv-py"
  },
  "language_info": {
   "codemirror_mode": {
    "name": "ipython",
    "version": 3
   },
   "file_extension": ".py",
   "mimetype": "text/x-python",
   "name": "python",
   "nbconvert_exporter": "python",
   "pygments_lexer": "ipython3",
   "version": "3.9.0"
  }
 },
 "nbformat": 4,
 "nbformat_minor": 5
}
