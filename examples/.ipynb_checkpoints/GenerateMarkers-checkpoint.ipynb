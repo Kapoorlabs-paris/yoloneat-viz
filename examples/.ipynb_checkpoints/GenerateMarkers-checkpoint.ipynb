{
 "cells": [
  {
   "cell_type": "code",
   "execution_count": 3,
   "metadata": {},
   "outputs": [],
   "source": [
    "import sys\n",
    "import os\n",
    "import glob\n",
    "from pathlib import Path\n",
    "from tifffile import imread, imwrite\n",
    "sys.path.append(\"../\")\n",
    "from yoloneatviz import HolovizNapari"
   ]
  },
  {
   "cell_type": "code",
   "execution_count": 4,
   "metadata": {},
   "outputs": [],
   "source": [
    "imagedir = '/home/sancere/VKepler/Bin2TestMovies/Segmentation/'\n",
    "savedir = '/home/sancere/VKepler/Bin2TestMovies/Markers/'\n",
    "Path(savedir).mkdir(exist_ok=True)"
   ]
  },
  {
   "cell_type": "code",
   "execution_count": null,
   "metadata": {},
   "outputs": [],
   "source": [
    "Raw_path = os.path.join(imagedir, '*tif')\n",
    "filesRaw = glob.glob(Raw_path)\n",
    "for fname in filesRaw:\n",
    "    \n",
    "    image = imread(fname)\n",
    "    Name = os.path.basename(os.path.splitext(fname)[0])\n",
    "    MarkerImage = HolovizNapari.GetMarkers(image)\n",
    "    \n",
    "    imwrite(savedir + '/' + Name, MarkerImage)"
   ]
  },
  {
   "cell_type": "code",
   "execution_count": null,
   "metadata": {},
   "outputs": [],
   "source": []
  }
 ],
 "metadata": {
  "kernelspec": {
   "display_name": "Python [conda env:tensorflowGPU] *",
   "language": "python",
   "name": "conda-env-tensorflowGPU-py"
  },
  "language_info": {
   "codemirror_mode": {
    "name": "ipython",
    "version": 3
   },
   "file_extension": ".py",
   "mimetype": "text/x-python",
   "name": "python",
   "nbconvert_exporter": "python",
   "pygments_lexer": "ipython3",
   "version": "3.7.10"
  }
 },
 "nbformat": 4,
 "nbformat_minor": 4
}
