{
 "cells": [
  {
   "cell_type": "code",
   "execution_count": null,
   "id": "ef54ea64",
   "metadata": {},
   "outputs": [
    {
     "name": "stdout",
     "output_type": "stream",
     "text": [
      "Requirement already satisfied: opencv-python in /home/sancere/anaconda3/envs/naparienv/lib/python3.9/site-packages (4.5.3.56)\r\n",
      "Requirement already satisfied: numpy>=1.19.3 in /home/sancere/anaconda3/envs/naparienv/lib/python3.9/site-packages (from opencv-python) (1.21.2)\r\n"
     ]
    }
   ],
   "source": [
    "\n",
    "import sys\n",
    "import os\n",
    "import glob\n",
    "sys.path.append(\"../\")\n",
    "from yoloneatviz import NEATViz\n",
    "\n",
    "%gui qt"
   ]
  },
  {
   "cell_type": "code",
   "execution_count": null,
   "id": "a94a0749",
   "metadata": {},
   "outputs": [],
   "source": [
    "imagedir = '/home/sancere/VKepler/Bin2TestMovies/'\n",
    "csvdir = '/home/sancere/VKepler/Bin2TestMovies/Resultsd38/'\n",
    "categories_json = '/home/sancere/VKepler/CurieDeepLearningModels/OneatModels/MasterBinning2V1Models/DynamicCategories.json'\n",
    "fileextension = '*tif'\n",
    "thresh = 1.0 - 1.0E-2\n",
    "event_threshold = [thresh, thresh, thresh, thresh, thresh, thresh]\n",
    "Vizdetections = NEATViz(imagedir, csvdir, categories_json, event_threshold, fileextension = fileextension)"
   ]
  },
  {
   "cell_type": "code",
   "execution_count": null,
   "id": "4e77eab8",
   "metadata": {},
   "outputs": [],
   "source": []
  }
 ],
 "metadata": {
  "kernelspec": {
   "display_name": "Python [conda env:naparienv]",
   "language": "python",
   "name": "conda-env-naparienv-py"
  },
  "language_info": {
   "codemirror_mode": {
    "name": "ipython",
    "version": 3
   },
   "file_extension": ".py",
   "mimetype": "text/x-python",
   "name": "python",
   "nbconvert_exporter": "python",
   "pygments_lexer": "ipython3",
   "version": "3.9.0"
  }
 },
 "nbformat": 4,
 "nbformat_minor": 5
}
