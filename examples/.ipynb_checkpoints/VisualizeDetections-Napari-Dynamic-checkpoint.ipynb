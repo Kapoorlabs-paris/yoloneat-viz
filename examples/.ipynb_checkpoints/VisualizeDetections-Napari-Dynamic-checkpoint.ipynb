{
 "cells": [
  {
   "cell_type": "code",
   "execution_count": 1,
   "id": "729cc58b",
   "metadata": {},
   "outputs": [],
   "source": [
    "\n",
    "import sys\n",
    "import os\n",
    "import glob\n",
    "sys.path.append(\"../\")\n",
    "from yoloneatviz import NEATViz\n",
    "\n",
    "%gui qt"
   ]
  },
  {
   "cell_type": "code",
   "execution_count": 6,
   "id": "22e3ac24",
   "metadata": {},
   "outputs": [
    {
     "ename": "SyntaxError",
     "evalue": "(unicode error) 'unicodeescape' codec can't decode bytes in position 2-3: truncated \\UXXXXXXXX escape (3327434946.py, line 1)",
     "output_type": "error",
     "traceback": [
      "\u001b[0;36m  File \u001b[0;32m\"/tmp/ipykernel_9473/3327434946.py\"\u001b[0;36m, line \u001b[0;32m1\u001b[0m\n\u001b[0;31m    imagedir ='C:\\Users\\rando\\Downloads\\Hela_ONEAT/'\u001b[0m\n\u001b[0m                                                    ^\u001b[0m\n\u001b[0;31mSyntaxError\u001b[0m\u001b[0;31m:\u001b[0m (unicode error) 'unicodeescape' codec can't decode bytes in position 2-3: truncated \\UXXXXXXXX escape\n"
     ]
    }
   ],
   "source": [
    "imagedir = 'C:\\Users\\rando\\Downloads\\Hela_ONEAT/'\n",
    "heatmapdir = 'C:\\Users\\rando\\Downloads\\Hela_ONEAT/'\n",
    "csvdir = 'C:\\Users\\rando\\Downloads\\Hela_ONEAT/'\n",
    "categories_json = 'C:\\Users\\rando\\Downloads\\Cellsplitcategories.json'\n",
    "fileextension = '*tif'\n",
    "thresh = 1.0 - 1.0E-4\n",
    "event_threshold = [thresh, thresh]\n",
    "Vizdetections = NEATViz(imagedir, heatmapdir, csvdir, categories_json, event_threshold, fileextension = fileextension)"
   ]
  },
  {
   "cell_type": "code",
   "execution_count": null,
   "id": "7a69fe72",
   "metadata": {},
   "outputs": [],
   "source": []
  }
 ],
 "metadata": {
  "kernelspec": {
   "display_name": "Python [conda env:naparienv] *",
   "language": "python",
   "name": "conda-env-naparienv-py"
  },
  "language_info": {
   "codemirror_mode": {
    "name": "ipython",
    "version": 3
   },
   "file_extension": ".py",
   "mimetype": "text/x-python",
   "name": "python",
   "nbconvert_exporter": "python",
   "pygments_lexer": "ipython3",
   "version": "3.9.0"
  }
 },
 "nbformat": 4,
 "nbformat_minor": 5
}
