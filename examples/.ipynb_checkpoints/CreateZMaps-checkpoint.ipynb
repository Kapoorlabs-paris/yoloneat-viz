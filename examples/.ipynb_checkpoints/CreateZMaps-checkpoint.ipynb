{
 "cells": [
  {
   "cell_type": "code",
   "execution_count": null,
   "id": "3adf1340",
   "metadata": {},
   "outputs": [],
   "source": [
    "import sys\n",
    "import os\n",
    "import glob\n",
    "sys.path.append(\"../\")\n",
    "from yoloneatviz import Zmapgen\n",
    "\n"
   ]
  },
  {
   "cell_type": "code",
   "execution_count": null,
   "id": "cb3b10f6",
   "metadata": {
    "scrolled": false
   },
   "outputs": [],
   "source": [
    "imagedir = '/home/sancere/VKepler/CurieTrainingDatasets/foconeatimages/CuriePredictions/'\n",
    "savedir = '/home/sancere/VKepler/CurieTrainingDatasets/foconeatimages/CuriePredictions/'\n",
    "\n",
    "fileextension = '*tif'\n",
    "\n",
    "Vizdetections = Zmapgen(imagedir, savedir, fileextension = fileextension)"
   ]
  },
  {
   "cell_type": "code",
   "execution_count": null,
   "id": "00a0967c",
   "metadata": {},
   "outputs": [],
   "source": []
  }
 ],
 "metadata": {
  "kernelspec": {
   "display_name": "Python [conda env:tensorflowGPU] *",
   "language": "python",
   "name": "conda-env-tensorflowGPU-py"
  },
  "language_info": {
   "codemirror_mode": {
    "name": "ipython",
    "version": 3
   },
   "file_extension": ".py",
   "mimetype": "text/x-python",
   "name": "python",
   "nbconvert_exporter": "python",
   "pygments_lexer": "ipython3",
   "version": "3.7.10"
  }
 },
 "nbformat": 4,
 "nbformat_minor": 5
}
