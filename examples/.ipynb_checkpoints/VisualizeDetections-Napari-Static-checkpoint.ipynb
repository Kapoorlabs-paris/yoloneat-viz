{
 "cells": [
  {
   "cell_type": "code",
   "execution_count": 9,
   "id": "54e70f22",
   "metadata": {},
   "outputs": [],
   "source": [
    "\n",
    "import sys\n",
    "import os\n",
    "import glob\n",
    "sys.path.append(\"../\")\n",
    "from yoloneatviz import NEATViz\n",
    "import nest_asyncio\n",
    "nest_asyncio.apply()\n",
    "\n",
    "%gui qt"
   ]
  },
  {
   "cell_type": "code",
   "execution_count": 10,
   "id": "592281f5",
   "metadata": {},
   "outputs": [],
   "source": [
    "categories_json = '/home/sancere/VKepler/CurieDeepLearningModels/OneatModels/MasterBinning2V1Models/DynamicCategories.json'\n"
   ]
  },
  {
   "cell_type": "code",
   "execution_count": 11,
   "id": "efae7a52",
   "metadata": {},
   "outputs": [
    {
     "name": "stdout",
     "output_type": "stream",
     "text": [
      "<Figure size 288x288 with 1 Axes>\n"
     ]
    }
   ],
   "source": [
    "imagedir = '/home/sancere/VKepler/oneatgolddust/Test/Bin2Test/'\n",
    "csvdir = '/home/sancere/VKepler/oneatgolddust/Test/Bin2Test/Save29resf16/'\n",
    "fileextension = '*tif'\n",
    "event_threshold = [1, 0.99999, 0.9999999, 0.9, 0.9, 0.9]\n",
    "Vizdetections = NEATViz(imagedir, csvdir, categories_json, event_threshold, fileextension = fileextension)"
   ]
  },
  {
   "cell_type": "code",
   "execution_count": 12,
   "id": "7e4ab76e",
   "metadata": {},
   "outputs": [
    {
     "name": "stdout",
     "output_type": "stream",
     "text": [
      "<Figure size 288x288 with 1 Axes>\n"
     ]
    }
   ],
   "source": [
    "imagedir = '/home/sancere/VKepler/oneatgolddust/Test/Bin2Test/'\n",
    "csvdir = '/home/sancere/VKepler/oneatgolddust/Test/Bin2Test/FNMSHTDivd29resf32/'\n",
    "fileextension = '*tif'\n",
    "thresh = 1.0 - 1.0E-5\n",
    "event_threshold = [thresh, thresh, thresh, thresh, thresh, thresh]\n",
    "Vizdetections = NEATViz(imagedir, csvdir, categories_json, event_threshold, fileextension = fileextension)"
   ]
  },
  {
   "cell_type": "code",
   "execution_count": 13,
   "id": "2b80f837",
   "metadata": {},
   "outputs": [
    {
     "name": "stdout",
     "output_type": "stream",
     "text": [
      "<Figure size 288x288 with 1 Axes>\n"
     ]
    }
   ],
   "source": [
    "\n",
    "imagedir ='/home/sancere/VKepler/oneatgolddust/Test/Bin2Test/'\n",
    "csvdir = '/home/sancere/VKepler/oneatgolddust/Test/Bin2Test/FNMSHTMicrod29resf32/'\n",
    "\n",
    "fileextension = '*tif'\n",
    "thresh = 1.0 - 1.0E-5\n",
    "event_threshold = [thresh, thresh, thresh, thresh, thresh, thresh]\n",
    "Vizdetections = NEATViz(imagedir, csvdir, categories_json, event_threshold, fileextension = fileextension)"
   ]
  },
  {
   "cell_type": "code",
   "execution_count": 14,
   "id": "68687f64",
   "metadata": {},
   "outputs": [
    {
     "name": "stdout",
     "output_type": "stream",
     "text": [
      "<Figure size 288x288 with 1 Axes>\n"
     ]
    }
   ],
   "source": [
    "\n",
    "imagedir ='/home/sancere/VKepler/oneatgolddust/Test/Bin2Test/'\n",
    "csvdir = '/home/sancere/VKepler/oneatgolddust/Test/Bin2Test/longmasterd29resf32/'\n",
    "\n",
    "fileextension = '*tif'\n",
    "event_threshold = [1, 0.9999, 0.999999, 0.9, 0.9, 0.9]\n",
    "\n",
    "Vizdetections = NEATViz(imagedir, csvdir, categories_json, event_threshold, fileextension = fileextension)"
   ]
  },
  {
   "cell_type": "code",
   "execution_count": 15,
   "id": "71718a56",
   "metadata": {},
   "outputs": [
    {
     "name": "stdout",
     "output_type": "stream",
     "text": [
      "<Figure size 288x288 with 1 Axes>\n"
     ]
    }
   ],
   "source": [
    "\n",
    "imagedir ='/home/sancere/VKepler/oneatgolddust/Test/Bin2Test/'\n",
    "csvdir = '/home/sancere/VKepler/oneatgolddust/Test/Bin2Test/MasterMicrod29f32/'\n",
    "\n",
    "fileextension = '*tif'\n",
    "event_threshold = [1, 0.9999, 0.999999, 0.9, 0.9, 0.9]\n",
    "\n",
    "Vizdetections = NEATViz(imagedir, csvdir, categories_json, event_threshold, fileextension = fileextension)"
   ]
  },
  {
   "cell_type": "code",
   "execution_count": null,
   "id": "434dc3f1",
   "metadata": {},
   "outputs": [],
   "source": []
  }
 ],
 "metadata": {
  "kernelspec": {
   "display_name": "Python 3 (ipykernel)",
   "language": "python",
   "name": "python3"
  },
  "language_info": {
   "codemirror_mode": {
    "name": "ipython",
    "version": 3
   },
   "file_extension": ".py",
   "mimetype": "text/x-python",
   "name": "python",
   "nbconvert_exporter": "python",
   "pygments_lexer": "ipython3",
   "version": "3.9.0"
  }
 },
 "nbformat": 4,
 "nbformat_minor": 5
}
