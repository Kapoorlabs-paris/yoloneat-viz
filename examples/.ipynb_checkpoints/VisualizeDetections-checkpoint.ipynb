{
 "cells": [
  {
   "cell_type": "code",
   "execution_count": 1,
   "id": "75ba0738",
   "metadata": {},
   "outputs": [],
   "source": [
    "import sys\n",
    "import os\n",
    "import glob\n",
    "sys.path.append(\"../\")\n",
    "from yoloneatviz import NEATViz\n",
    "from pathlib import Path\n",
    "\n",
    "%gui qt"
   ]
  },
  {
   "cell_type": "code",
   "execution_count": null,
   "id": "e749e241",
   "metadata": {},
   "outputs": [],
   "source": [
    "imagedir = '/Users/aimachine/Test/Raw/'\n",
    "csvdir = '/Users/aimachine/Test/Raw/Saved38s4seqf32/'\n",
    "categories_json = '/Users/aimachine/Test/Raw/StaticCategories.json'\n",
    "fileextension = '*tif'\n",
    "Vizdetections = NEATViz(imagedir, csvdir,categories_json= categories_json, fileextension = fileextension)"
   ]
  },
  {
   "cell_type": "code",
   "execution_count": null,
   "id": "cb8dc002",
   "metadata": {},
   "outputs": [],
   "source": [
    "class Updater:\n",
    "    def __init__(self, viewer, image):\n",
    "           \n",
    "             self.viewer = viewer\n",
    "             self.image = image\n",
    "             self.time  = int(self.viewer.dims.point[0])\n",
    "             self.viewer.dims.events.current_step.connect(self.update_slider)\n",
    "    def update_slider(self, event):\n",
    "                  \n",
    "                          self.time = int(self.viewer.dims.point[0])\n",
    "                          print(self.time)"
   ]
  },
  {
   "cell_type": "code",
   "execution_count": null,
   "id": "20422d6d",
   "metadata": {},
   "outputs": [],
   "source": [
    "from tifffile import imread\n",
    "import napari\n",
    "image = imread('/Users/aimachine/Test/Raw/wt_gold_mov12_SW30.tif')\n",
    "\n",
    "viewer = napari.view_image(image, name='Raw')\n",
    "update = Updater(viewer,image)"
   ]
  },
  {
   "cell_type": "code",
   "execution_count": null,
   "id": "6a8270fa",
   "metadata": {},
   "outputs": [],
   "source": [
    "print(os.path.basename('/Users/aimachine/Test/Raw/wt_gold_mov12_SW30.tif'))"
   ]
  },
  {
   "cell_type": "code",
   "execution_count": null,
   "id": "addfb9f8",
   "metadata": {},
   "outputs": [],
   "source": []
  }
 ],
 "metadata": {
  "kernelspec": {
   "display_name": "Python [conda env:testenv]",
   "language": "python",
   "name": "conda-env-testenv-py"
  },
  "language_info": {
   "codemirror_mode": {
    "name": "ipython",
    "version": 3
   },
   "file_extension": ".py",
   "mimetype": "text/x-python",
   "name": "python",
   "nbconvert_exporter": "python",
   "pygments_lexer": "ipython3",
   "version": "3.9.0"
  }
 },
 "nbformat": 4,
 "nbformat_minor": 5
}
