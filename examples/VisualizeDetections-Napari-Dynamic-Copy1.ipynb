{
 "cells": [
  {
   "cell_type": "code",
   "execution_count": 11,
   "id": "7fbce8da",
   "metadata": {},
   "outputs": [
    {
     "data": {
      "text/plain": [
       "<Figure size 432x288 with 0 Axes>"
      ]
     },
     "metadata": {},
     "output_type": "display_data"
    }
   ],
   "source": [
    "\n",
    "import sys\n",
    "import os\n",
    "import glob\n",
    "sys.path.append(\"../\")\n",
    "from yoloneatviz import NEATViz\n",
    "\n",
    "%gui qt"
   ]
  },
  {
   "cell_type": "code",
   "execution_count": 13,
   "id": "eab77c93",
   "metadata": {},
   "outputs": [
    {
     "data": {
      "text/plain": [
       "<Figure size 432x288 with 0 Axes>"
      ]
     },
     "metadata": {},
     "output_type": "display_data"
    },
    {
     "data": {
      "image/png": "[encoded data removed]",
      "text/plain": [
       "<Figure size 288x288 with 1 Axes>"
      ]
     },
     "metadata": {
      "needs_background": "light"
     },
     "output_type": "display_data"
    }
   ],
   "source": [
    "imagedir = '/Users/rando/Downloads/SaveDetection/'\n",
    "heatmapdir = '/Users/rando/Downloads/Savem3p1s5Detection/Heat_Map/'\n",
    "csvdir = '/Users/rando/Downloads/Savem3p1s5Detection/Csv/'\n",
    "categories_json = '/Users/rando/Downloads/cellsplitcategories.json'\n",
    "fileextension = '*tif'\n",
    "thresh = 1.0 - 1.0E-4\n",
    "event_threshold = [thresh, thresh]\n",
    "Vizdetections = NEATViz(imagedir, heatmapdir, csvdir, categories_json, event_threshold, fileextension = fileextension)"
   ]
  },
  {
   "cell_type": "code",
   "execution_count": null,
   "id": "16628755",
   "metadata": {},
   "outputs": [],
   "source": []
  }
 ],
 "metadata": {
  "kernelspec": {
   "display_name": "Python [conda env:naparienv] *",
   "language": "python",
   "name": "conda-env-naparienv-py"
  },
  "language_info": {
   "codemirror_mode": {
    "name": "ipython",
    "version": 3
   },
   "file_extension": ".py",
   "mimetype": "text/x-python",
   "name": "python",
   "nbconvert_exporter": "python",
   "pygments_lexer": "ipython3",
   "version": "3.9.0"
  }
 },
 "nbformat": 4,
 "nbformat_minor": 5
}
