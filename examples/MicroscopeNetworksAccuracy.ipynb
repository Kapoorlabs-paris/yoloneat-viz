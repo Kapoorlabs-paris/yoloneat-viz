{
 "cells": [
  {
   "cell_type": "code",
   "execution_count": 1,
   "metadata": {},
   "outputs": [],
   "source": [
    "import sys\n",
    "import os\n",
    "import glob\n",
    "sys.path.append(\"../\")\n",
    "from yoloneatviz import HolovizNapari\n",
    "import os\n",
    "from pathlib import Path\n",
    "import pandas as pd\n",
    "import matplotlib.pyplot  as plt\n",
    "from natsort import natsorted\n",
    "import numpy as np"
   ]
  },
  {
   "cell_type": "code",
   "execution_count": 2,
   "metadata": {},
   "outputs": [
    {
     "data": {
      "image/png": "[encoded data removed]",
      "text/plain": [
       "<Figure size 432x288 with 1 Axes>"
      ]
     },
     "metadata": {
      "needs_background": "light"
     },
     "output_type": "display_data"
    },
    {
     "data": {
      "text/html": [
       "<div>\n",
       "<style scoped>\n",
       "    .dataframe tbody tr th:only-of-type {\n",
       "        vertical-align: middle;\n",
       "    }\n",
       "\n",
       "    .dataframe tbody tr th {\n",
       "        vertical-align: top;\n",
       "    }\n",
       "\n",
       "    .dataframe thead th {\n",
       "        text-align: right;\n",
       "    }\n",
       "</style>\n",
       "<table border=\"1\" class=\"dataframe\">\n",
       "  <thead>\n",
       "    <tr style=\"text-align: right;\">\n",
       "      <th></th>\n",
       "      <th>MovieName</th>\n",
       "      <th>NetworkName</th>\n",
       "      <th>CellType</th>\n",
       "      <th>True Positives</th>\n",
       "      <th>False Negatives</th>\n",
       "      <th>False Positives</th>\n",
       "    </tr>\n",
       "  </thead>\n",
       "  <tbody>\n",
       "    <tr>\n",
       "      <th>0</th>\n",
       "      <td>DivisionLocationwt_mov12_SW30</td>\n",
       "      <td>microgoldd29f32_th20</td>\n",
       "      <td>Division</td>\n",
       "      <td>25.3929</td>\n",
       "      <td>74.6071</td>\n",
       "      <td>6.8297</td>\n",
       "    </tr>\n",
       "  </tbody>\n",
       "</table>\n",
       "</div>"
      ],
      "text/plain": [
       "                       MovieName           NetworkName  CellType  \\\n",
       "0  DivisionLocationwt_mov12_SW30  microgoldd29f32_th20  Division   \n",
       "\n",
       "  True Positives False Negatives False Positives  \n",
       "0        25.3929         74.6071          6.8297  "
      ]
     },
     "execution_count": 2,
     "metadata": {},
     "output_type": "execute_result"
    }
   ],
   "source": [
    "thresholdspace = 40\n",
    "thresholdtime = 10\n",
    "thresholdscore = 1 -  1.0E-4\n",
    "MovieName = []\n",
    "NetworkName = []\n",
    "CellName = []\n",
    "Accuracy = []\n",
    "FNAccuracy = []\n",
    "FPAccuracy = []\n",
    "NetName = 'microgoldd29f32_th20'\n",
    "resultsdir = '/Users/aimachine/oneat_analysis/WildType/Golds/AccuracyResults/'\n",
    "Path(resultsdir).mkdir(exist_ok=True)\n",
    "csv_gt = '/Users/aimachine/oneat_analysis/WildType/DivisionLocationwt_mov12_SW30.csv'\n",
    "\n",
    "csv_pred = '/Users/aimachine/oneat_analysis/WildType/Golds/' + NetName + '/DivisionLocationwt_mov12_SW30.csv'\n",
    "Name = os.path.basename(os.path.splitext(csv_pred)[0])\n",
    "tp, fn, fp = HolovizNapari.TruePositives(csv_gt, csv_pred, thresholdscore = thresholdscore, thresholdspace = thresholdspace, thresholdtime = thresholdtime)\n",
    "MovieName.append(Name)\n",
    "NetworkName.append(NetName)\n",
    "CellName.append('Division')\n",
    "Accuracy.append(str('%.4f'%tp))\n",
    "FNAccuracy.append(str('%.4f'%fn))\n",
    "FPAccuracy.append(str('%.4f'%fp))\n",
    "df = pd.DataFrame(list(zip(MovieName,NetworkName,CellName,Accuracy, FNAccuracy,FPAccuracy)), index = None, \n",
    "                                                                      columns =['MovieName', 'NetworkName', 'CellType',  'True Positives', 'False Negatives', 'False Positives'])\n",
    "                        \n",
    "df.to_csv(resultsdir + '/' + NetName+  'DivisionDynamicAccuracy' +  '.csv')  \n",
    "df\n",
    "\n",
    "Accuracy = natsorted(Accuracy, reverse = True)\n",
    "FNAccuracy = natsorted(FNAccuracy, reverse = True)\n",
    "FPAccuracy = natsorted(FPAccuracy, reverse = True)\n",
    "colors = np.random.rand(len(Accuracy))\n",
    "plt.scatter(NetworkName, Accuracy,  alpha=0.5, c = colors)\n",
    "\n",
    "colors = np.random.rand(len(FNAccuracy))\n",
    "plt.scatter(NetworkName, FNAccuracy,  alpha=0.5, c = colors)\n",
    "colors = np.random.rand(len(FPAccuracy))\n",
    "plt.scatter(NetworkName, FPAccuracy,  alpha=0.5, c = colors)\n",
    "\n",
    "plt.savefig(resultsdir + '/' + NetName +  'FullDynamicaccuracy' + '.png', dpi = 300)\n",
    "plt.show()\n",
    "df"
   ]
  },
  {
   "cell_type": "markdown",
   "metadata": {},
   "source": []
  }
 ],
 "metadata": {
  "kernelspec": {
   "display_name": "Python [conda env:testenv] *",
   "language": "python",
   "name": "conda-env-testenv-py"
  },
  "language_info": {
   "codemirror_mode": {
    "name": "ipython",
    "version": 3
   },
   "file_extension": ".py",
   "mimetype": "text/x-python",
   "name": "python",
   "nbconvert_exporter": "python",
   "pygments_lexer": "ipython3",
   "version": "3.9.0"
  }
 },
 "nbformat": 4,
 "nbformat_minor": 5
}
