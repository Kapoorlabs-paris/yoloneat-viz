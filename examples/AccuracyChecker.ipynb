{
 "cells": [
  {
   "cell_type": "code",
   "execution_count": 1,
   "metadata": {},
   "outputs": [],
   "source": [
    "import sys\n",
    "import os\n",
    "import glob\n",
    "sys.path.append(\"../\")\n",
    "from yoloneatviz import HolovizNapari\n",
    "import os"
   ]
  },
  {
   "cell_type": "code",
   "execution_count": 8,
   "metadata": {},
   "outputs": [],
   "source": [
    "csv_gt = '/Users/aimachine/oneat_analysis/Penultimate/GT/divisionbin2V1/ONEATDIAP_mov5Division.csv'\n",
    "threshold = 15\n"
   ]
  },
  {
   "cell_type": "code",
   "execution_count": 9,
   "metadata": {},
   "outputs": [
    {
     "name": "stdout",
     "output_type": "stream",
     "text": [
      "Accuracy of Network DivisionLocationDIAP_mov5 99.19871794871796 %\n"
     ]
    }
   ],
   "source": [
    "csv_pred = '/Users/aimachine/oneat_analysis/Penultimate/Divd38resf16/DivisionLocationDIAP_mov5.csv'\n",
    "\n",
    "\n",
    "Name = os.path.basename(os.path.splitext(csv_pred)[0])\n",
    "tp = HolovizNapari.TruePositives(csv_gt, csv_pred, threshold = threshold)\n",
    "print('Accuracy of Network', Name,  tp * 100,  '%')"
   ]
  },
  {
   "cell_type": "code",
   "execution_count": 10,
   "metadata": {},
   "outputs": [
    {
     "name": "stdout",
     "output_type": "stream",
     "text": [
      "Accuracy of Network DivisionLocationDIAP_mov5 98.79807692307693 %\n"
     ]
    }
   ],
   "source": [
    "csv_pred = '/Users/aimachine/oneat_analysis/Penultimate/Divd29resf32/DivisionLocationDIAP_mov5.csv'\n",
    "\n",
    "\n",
    "Name = os.path.basename(os.path.splitext(csv_pred)[0])\n",
    "tp = HolovizNapari.TruePositives(csv_gt, csv_pred, threshold = threshold)\n",
    "print('Accuracy of Network', Name,  tp * 100,  '%')"
   ]
  },
  {
   "cell_type": "code",
   "execution_count": 11,
   "metadata": {},
   "outputs": [
    {
     "name": "stdout",
     "output_type": "stream",
     "text": [
      "Accuracy of Microscope Network DivisionLocationDIAP_mov5 73.4775641025641 %\n"
     ]
    }
   ],
   "source": [
    "csv_pred = '/Users/aimachine/oneat_analysis/Penultimate/Microd38f32/DivisionLocationDIAP_mov5.csv'\n",
    "\n",
    "\n",
    "Name = os.path.basename(os.path.splitext(csv_pred)[0])\n",
    "tp = HolovizNapari.TruePositives(csv_gt, csv_pred, threshold = threshold)\n",
    "print('Accuracy of Microscope Network', Name,  tp * 100,  '%')"
   ]
  },
  {
   "cell_type": "code",
   "execution_count": 12,
   "metadata": {},
   "outputs": [
    {
     "name": "stdout",
     "output_type": "stream",
     "text": [
      "Accuracy of Microscope Network DivisionLocationDIAP_mov5 76.28205128205127 %\n"
     ]
    }
   ],
   "source": [
    "csv_pred = '/Users/aimachine/oneat_analysis/Penultimate/Microd29f32/DivisionLocationDIAP_mov5.csv'\n",
    "\n",
    "\n",
    "Name = os.path.basename(os.path.splitext(csv_pred)[0])\n",
    "tp = HolovizNapari.TruePositives(csv_gt, csv_pred, threshold = threshold)\n",
    "print('Accuracy of Microscope Network', Name,  tp * 100,  '%')"
   ]
  },
  {
   "cell_type": "code",
   "execution_count": 13,
   "metadata": {},
   "outputs": [
    {
     "name": "stdout",
     "output_type": "stream",
     "text": [
      "Accuracy of Static Network DivisionLocationDIAP_mov5 98.5576923076923 %\n"
     ]
    }
   ],
   "source": [
    "csv_pred = '/Users/aimachine/oneat_analysis/Penultimate/StaticSave29resf16/DivisionLocationDIAP_mov5.csv'\n",
    "\n",
    "\n",
    "Name = os.path.basename(os.path.splitext(csv_pred)[0])\n",
    "tp = HolovizNapari.TruePositives(csv_gt, csv_pred, threshold = threshold)\n",
    "print('Accuracy of Static Network', Name,  tp * 100,  '%')"
   ]
  },
  {
   "cell_type": "code",
   "execution_count": null,
   "metadata": {},
   "outputs": [],
   "source": [
    "csv_pred = '/Users/aimachine/oneat_analysis/Penultimate/StaticSave29resf32/DivisionLocationDIAP_mov5.csv'\n",
    "\n",
    "\n",
    "Name = os.path.basename(os.path.splitext(csv_pred)[0])\n",
    "tp = HolovizNapari.TruePositives(csv_gt, csv_pred, threshold = threshold)\n",
    "print('Accuracy of Microscope Network', Name,  tp * 100,  '%')"
   ]
  },
  {
   "cell_type": "code",
   "execution_count": null,
   "metadata": {},
   "outputs": [],
   "source": []
  }
 ],
 "metadata": {
  "kernelspec": {
   "display_name": "Python [conda env:testenv] *",
   "language": "python",
   "name": "conda-env-testenv-py"
  },
  "language_info": {
   "codemirror_mode": {
    "name": "ipython",
    "version": 3
   },
   "file_extension": ".py",
   "mimetype": "text/x-python",
   "name": "python",
   "nbconvert_exporter": "python",
   "pygments_lexer": "ipython3",
   "version": "3.9.0"
  }
 },
 "nbformat": 4,
 "nbformat_minor": 5
}
