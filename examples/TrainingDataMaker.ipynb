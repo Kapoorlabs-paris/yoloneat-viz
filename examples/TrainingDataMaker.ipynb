{
 "cells": [
  {
   "cell_type": "code",
   "execution_count": 1,
   "metadata": {},
   "outputs": [],
   "source": [
    "\n",
    "import napari\n",
    "import os\n",
    "import glob\n",
    "from pathlib import Path\n",
    "from tifffile import imread\n",
    "import numpy as np\n",
    "import csv\n",
    "import pandas as pd\n",
    "from qtpy.QtWidgets import QComboBox, QPushButton, QSlider\n",
    "%gui qt"
   ]
  },
  {
   "cell_type": "code",
   "execution_count": 2,
   "metadata": {},
   "outputs": [],
   "source": [
    "class EventViewer(object):\n",
    "    \n",
    "    def __init__(self, viewer, imagename, Name, csv_dir, save = False, newimage = True):\n",
    "     \n",
    "          self.save = save\n",
    "          self.newimage = newimage\n",
    "          self.viewer = viewer\n",
    "           \n",
    "          print('reading image')      \n",
    "          self.imagename = imagename  \n",
    "          self.image = imread(imagename)\n",
    "          print('image read')\n",
    "          self.Name = Name\n",
    "            \n",
    "          self.csv_dir = csv_dir\n",
    "          \n",
    "          \n",
    "          self.click()\n",
    "    def click(self):\n",
    "\n",
    "        \n",
    "                ClassBackground = 'Normal'\n",
    "                ClassDivision = 'Division'\n",
    "                \n",
    "                if self.save == True:\n",
    " \n",
    "                        ClassBackgrounddata = self.viewer.layers[ClassBackground].data\n",
    "                        bgdf = pd.DataFrame(ClassBackgrounddata, index = None, columns = ['T', 'Y', 'X'])\n",
    "                        bgdf.to_csv(self.csv_dir + '/' + 'CAPED' + ClassBackground + self.Name +  '.csv', index = False, mode = 'w')\n",
    "\n",
    "                        ClassDivisiondata = self.viewer.layers[ClassDivision].data\n",
    "                        divdf = pd.DataFrame(ClassDivisiondata, index = None, columns = ['T', 'Y', 'X'])\n",
    "                        divdf.to_csv(self.csv_dir + '/' +'CAPED' + ClassDivision + self.Name +  '.csv', index = False, mode = 'w')\n",
    "\n",
    "                       \n",
    "        \n",
    "                if self.newimage == True:\n",
    "                     for layer in list(self.viewer.layers):\n",
    "\n",
    "                            self.viewer.layers.remove(layer) \n",
    "                    \n",
    "                if self.save == False:\n",
    "                        self.viewer.add_image(self.image, name = self.Name)\n",
    "\n",
    "\n",
    "                        # add the first points layer for ClassBackground T point\n",
    "                        self.viewer.add_points(name= ClassBackground, face_color='red', ndim = 3)\n",
    "\n",
    "                        # add the second points layer for ClassDivision T point\n",
    "                        self.viewer.add_points(name= ClassDivision, face_color='blue', ndim = 3)\n",
    "\n",
    "                      \n",
    "                        # programatically enter add mode for both Points layers to enable editing\n",
    "\n",
    "                        self.viewer.layers[ClassBackground].mode = 'add'\n",
    "                        self.viewer.layers[ClassDivision].mode = 'add'\n",
    "                       "
   ]
  },
  {
   "cell_type": "code",
   "execution_count": 3,
   "metadata": {},
   "outputs": [
    {
     "name": "stdout",
     "output_type": "stream",
     "text": [
      "DIPlib -- a quantitative image analysis library\n",
      "Version 3.1.0 (Sep 24 2021)\n",
      "For more information see https://diplib.org\n"
     ]
    },
    {
     "data": {
      "text/plain": [
       "<PyQt5.QtCore.QMetaObject.Connection at 0x7f96e34c8ac0>"
      ]
     },
     "execution_count": 3,
     "metadata": {},
     "output_type": "execute_result"
    },
    {
     "name": "stdout",
     "output_type": "stream",
     "text": [
      "reading image\n",
      "image read\n"
     ]
    }
   ],
   "source": [
    "sourcedir = '/mnt/c/Users/rando/Downloads/TrainingDatasets/Hela_CAPED/'\n",
    "csv_dir = '/mnt/c/Users/rando/Downloads/TrainingDatasets/Hela_CAPED/Csv/'\n",
    "Imageids = []\n",
    "Boxname = 'ImageIDBox'\n",
    "Path(csv_dir).mkdir(exist_ok = True)\n",
    "\n",
    "\n",
    "\n",
    "Raw_path = os.path.join(sourcedir, '*tif')\n",
    "X = glob.glob(Raw_path)\n",
    "for imagename in X:\n",
    "         Imageids.append(imagename)\n",
    "         Name = os.path.basename(os.path.splitext(imagename)[0])\n",
    "\n",
    "imageidbox = QComboBox()   \n",
    "imageidbox.addItem(Boxname)   \n",
    "tracksavebutton = QPushButton('Save Clicks')\n",
    "\n",
    "for i in range(0, len(Imageids)):\n",
    "\n",
    "\n",
    "     imageidbox.addItem(str(Imageids[i]))\n",
    "        \n",
    "        \n",
    "viewer = napari.Viewer()        \n",
    "viewer.window.add_dock_widget(imageidbox, name=\"Image\", area='bottom')    \n",
    "viewer.window.add_dock_widget(tracksavebutton, name=\"Save Clicks\", area='bottom')\n",
    "imageidbox.currentIndexChanged.connect(\n",
    "         lambda trackid = imageidbox: EventViewer(\n",
    "                 viewer,\n",
    "                  imageidbox.currentText(),\n",
    "                       os.path.basename(os.path.splitext(imageidbox.currentText())[0]), csv_dir, False, True ))     \n",
    "\n",
    "tracksavebutton.clicked.connect(\n",
    "        lambda trackid= tracksavebutton:EventViewer(\n",
    "                 viewer,\n",
    "                  imageidbox.currentText(),\n",
    "                       os.path.basename(os.path.splitext(imageidbox.currentText())[0]), csv_dir, True, False ))"
   ]
  },
  {
   "cell_type": "code",
   "execution_count": null,
   "metadata": {},
   "outputs": [],
   "source": []
  }
 ],
 "metadata": {
  "kernelspec": {
   "display_name": "Python [conda env:naparienv] *",
   "language": "python",
   "name": "conda-env-naparienv-py"
  },
  "language_info": {
   "codemirror_mode": {
    "name": "ipython",
    "version": 3
   },
   "file_extension": ".py",
   "mimetype": "text/x-python",
   "name": "python",
   "nbconvert_exporter": "python",
   "pygments_lexer": "ipython3",
   "version": "3.9.0"
  }
 },
 "nbformat": 4,
 "nbformat_minor": 4
}
