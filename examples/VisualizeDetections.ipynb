{
 "cells": [
  {
   "cell_type": "code",
   "execution_count": 6,
   "id": "80394fe2",
   "metadata": {},
   "outputs": [],
   "source": [
    "\n",
    "import sys\n",
    "import os\n",
    "import glob\n",
    "sys.path.append(\"../\")\n",
    "from yoloneatviz import NEATViz\n",
    "from pathlib import Path"
   ]
  },
  {
   "cell_type": "code",
   "execution_count": null,
   "id": "f327a89b",
   "metadata": {},
   "outputs": [],
   "source": [
    "imagedir = '/data/u934/service_imagerie/v_kapoor/oneatgolddust/Test/Raw/'\n",
    "csvdir = '/data/u934/service_imagerie/v_kapoor/oneatgolddust/Test/Raw/'\n",
    "fileextension = '*tif'\n",
    "Vizdetections = NEATViz(imagedir, csvdir, fileextension = fileextension)"
   ]
  },
  {
   "cell_type": "code",
   "execution_count": null,
   "id": "a4109f89",
   "metadata": {},
   "outputs": [],
   "source": []
  }
 ],
 "metadata": {
  "kernelspec": {
   "display_name": "Python [conda env:NapariTrack]",
   "language": "python",
   "name": "conda-env-NapariTrack-py"
  },
  "language_info": {
   "codemirror_mode": {
    "name": "ipython",
    "version": 3
   },
   "file_extension": ".py",
   "mimetype": "text/x-python",
   "name": "python",
   "nbconvert_exporter": "python",
   "pygments_lexer": "ipython3",
   "version": "3.9.0"
  }
 },
 "nbformat": 4,
 "nbformat_minor": 5
}
