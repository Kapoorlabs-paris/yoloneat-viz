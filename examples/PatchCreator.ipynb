{
 "cells": [
  {
   "cell_type": "code",
   "execution_count": 1,
   "metadata": {},
   "outputs": [],
   "source": [
    "import sys\n",
    "import os\n",
    "import glob\n",
    "sys.path.append(\"../\")\n",
    "from yoloneatviz import HolovizNapari\n",
    "import os\n",
    "from tifffile import imread, imwrite\n",
    "from pathlib import Path\n",
    "import pandas as pd\n",
    "import matplotlib.pyplot  as plt\n",
    "from natsort import natsorted\n",
    "import numpy as np"
   ]
  },
  {
   "cell_type": "code",
   "execution_count": 2,
   "metadata": {},
   "outputs": [
    {
     "name": "stdout",
     "output_type": "stream",
     "text": [
      "Downsampling Image in XY by 2\n"
     ]
    }
   ],
   "source": [
    "resultsdir = '/Users/aimachine/oneat_analysis/WildType/Patches/'\n",
    "Path(resultsdir).mkdir(exist_ok=True)\n",
    "image = imread('/Users/aimachine/oneat_analysis/WildType/wt_mov12_SW30.tif')\n",
    "csv_gt = '/Users/aimachine/oneat_analysis/WildType/DivisionLocationwt_mov12_SW30.csv'\n",
    "number_patches = 100\n",
    "patch_shape = [64,64]\n",
    "size_tminus = 3\n",
    "size_tplus = 0\n",
    "DownsampleFactor = 2\n",
    "HolovizNapari.PatchGenerator(image,resultsdir,csv_gt,number_patches,patch_shape, size_tminus,size_tplus, DownsampleFactor)"
   ]
  },
  {
   "cell_type": "code",
   "execution_count": null,
   "metadata": {},
   "outputs": [],
   "source": []
  }
 ],
 "metadata": {
  "kernelspec": {
   "display_name": "Python [conda env:testenv] *",
   "language": "python",
   "name": "conda-env-testenv-py"
  },
  "language_info": {
   "codemirror_mode": {
    "name": "ipython",
    "version": 3
   },
   "file_extension": ".py",
   "mimetype": "text/x-python",
   "name": "python",
   "nbconvert_exporter": "python",
   "pygments_lexer": "ipython3",
   "version": "3.9.0"
  }
 },
 "nbformat": 4,
 "nbformat_minor": 4
}
