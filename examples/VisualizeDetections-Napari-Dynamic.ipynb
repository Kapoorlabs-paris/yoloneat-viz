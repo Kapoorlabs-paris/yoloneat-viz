{
 "cells": [
  {
   "cell_type": "code",
<<<<<<< HEAD
   "execution_count": 1,
   "id": "7fbce8da",
   "metadata": {},
   "outputs": [],
=======
   "execution_count": null,
   "id": "729cc58b",
   "metadata": {},
   "outputs": [
    {
     "name": "stdout",
     "output_type": "stream",
     "text": [
      "Requirement already satisfied: napari[all] in /home/varunkapoor/anaconda3/envs/naparienv/lib/python3.9/site-packages (0.4.12)\n",
      "Collecting napari[all]\n",
      "  Using cached napari-0.4.13-py3-none-any.whl (2.5 MB)\n",
      "Requirement already satisfied: numpy>=1.18.5 in /home/varunkapoor/anaconda3/envs/naparienv/lib/python3.9/site-packages (from napari[all]) (1.20.0)\n",
      "Requirement already satisfied: scipy>=1.4.0 in /home/varunkapoor/anaconda3/envs/naparienv/lib/python3.9/site-packages (from napari[all]) (1.7.3)\n",
      "Requirement already satisfied: numpydoc>=0.9.2 in /home/varunkapoor/anaconda3/envs/naparienv/lib/python3.9/site-packages (from napari[all]) (1.1.0)\n",
      "Requirement already satisfied: dask[array]!=2.28.0,>=2.15.0 in /home/varunkapoor/anaconda3/envs/naparienv/lib/python3.9/site-packages (from napari[all]) (2021.12.0)\n",
      "Requirement already satisfied: pint>=0.17 in /home/varunkapoor/anaconda3/envs/naparienv/lib/python3.9/site-packages (from napari[all]) (0.18)\n",
      "Requirement already satisfied: jsonschema>=3.2.0 in /home/varunkapoor/anaconda3/envs/naparienv/lib/python3.9/site-packages (from napari[all]) (4.3.2)\n",
      "Requirement already satisfied: toolz>=0.10.0 in /home/varunkapoor/anaconda3/envs/naparienv/lib/python3.9/site-packages (from napari[all]) (0.11.2)\n",
      "Requirement already satisfied: vispy>=0.9.4 in /home/varunkapoor/anaconda3/envs/naparienv/lib/python3.9/site-packages (from napari[all]) (0.9.4)\n",
      "Requirement already satisfied: napari-plugin-engine>=0.1.9 in /home/varunkapoor/anaconda3/envs/naparienv/lib/python3.9/site-packages (from napari[all]) (0.2.0)\n",
      "Requirement already satisfied: pandas>=1.1.0 in /home/varunkapoor/anaconda3/envs/naparienv/lib/python3.9/site-packages (from napari[all]) (1.3.5)\n",
      "Requirement already satisfied: appdirs>=1.4.4 in /home/varunkapoor/anaconda3/envs/naparienv/lib/python3.9/site-packages (from napari[all]) (1.4.4)\n",
      "Requirement already satisfied: psutil>=5.0 in /home/varunkapoor/anaconda3/envs/naparienv/lib/python3.9/site-packages (from napari[all]) (5.9.0)\n",
      "Requirement already satisfied: qtpy>=1.7.0 in /home/varunkapoor/anaconda3/envs/naparienv/lib/python3.9/site-packages (from napari[all]) (2.0.0)\n",
      "Requirement already satisfied: tqdm>=4.56.0 in /home/varunkapoor/anaconda3/envs/naparienv/lib/python3.9/site-packages (from napari[all]) (4.62.3)\n",
      "Requirement already satisfied: PyYAML>=5.1 in /home/varunkapoor/anaconda3/envs/naparienv/lib/python3.9/site-packages (from napari[all]) (6.0)\n",
      "Requirement already satisfied: tifffile>=2020.2.16 in /home/varunkapoor/anaconda3/envs/naparienv/lib/python3.9/site-packages (from napari[all]) (2021.11.2)\n",
      "Requirement already satisfied: typing-extensions in /home/varunkapoor/anaconda3/envs/naparienv/lib/python3.9/site-packages (from napari[all]) (4.0.1)\n",
      "Requirement already satisfied: wrapt>=1.11.1 in /home/varunkapoor/anaconda3/envs/naparienv/lib/python3.9/site-packages (from napari[all]) (1.12.1)\n",
      "Requirement already satisfied: cachey>=0.2.1 in /home/varunkapoor/anaconda3/envs/naparienv/lib/python3.9/site-packages (from napari[all]) (0.2.1)\n",
      "Requirement already satisfied: certifi>=2018.1.18 in /home/varunkapoor/anaconda3/envs/naparienv/lib/python3.9/site-packages (from napari[all]) (2021.10.8)\n",
      "Requirement already satisfied: superqt>=0.2.5 in /home/varunkapoor/anaconda3/envs/naparienv/lib/python3.9/site-packages (from napari[all]) (0.2.5.post1)\n",
      "Requirement already satisfied: PyOpenGL>=3.1.0 in /home/varunkapoor/anaconda3/envs/naparienv/lib/python3.9/site-packages (from napari[all]) (3.1.5)\n",
      "Requirement already satisfied: napari-console>=0.0.4 in /home/varunkapoor/anaconda3/envs/naparienv/lib/python3.9/site-packages (from napari[all]) (0.0.4)\n",
      "Requirement already satisfied: imageio!=2.11.0,>=2.5.0 in /home/varunkapoor/anaconda3/envs/naparienv/lib/python3.9/site-packages (from napari[all]) (2.13.5)\n",
      "Requirement already satisfied: napari-svg>=0.1.4 in /home/varunkapoor/anaconda3/envs/naparienv/lib/python3.9/site-packages (from napari[all]) (0.1.5)\n",
      "Requirement already satisfied: Pillow!=7.1.0,!=7.1.1 in /home/varunkapoor/anaconda3/envs/naparienv/lib/python3.9/site-packages (from napari[all]) (8.4.0)\n",
      "Requirement already satisfied: pydantic>=1.8.1 in /home/varunkapoor/anaconda3/envs/naparienv/lib/python3.9/site-packages (from napari[all]) (1.9.0)\n",
      "Collecting npe2>=0.1.1\n",
      "  Using cached npe2-0.1.1-py2.py3-none-any.whl (46 kB)\n",
      "Requirement already satisfied: magicgui>=0.3.3 in /home/varunkapoor/anaconda3/envs/naparienv/lib/python3.9/site-packages (from napari[all]) (0.3.3)\n",
      "Requirement already satisfied: PyQt5!=5.15.0,>=5.12.3 in /home/varunkapoor/anaconda3/envs/naparienv/lib/python3.9/site-packages (from napari[all]) (5.12.3)\n",
      "Requirement already satisfied: scikit-image[data] in /home/varunkapoor/anaconda3/envs/naparienv/lib/python3.9/site-packages (from napari[all]) (0.19.1)\n",
      "Requirement already satisfied: heapdict in /home/varunkapoor/anaconda3/envs/naparienv/lib/python3.9/site-packages (from cachey>=0.2.1->napari[all]) (1.0.1)\n",
      "Requirement already satisfied: fsspec>=0.6.0 in /home/varunkapoor/anaconda3/envs/naparienv/lib/python3.9/site-packages (from dask[array]!=2.28.0,>=2.15.0->napari[all]) (2021.11.1)\n",
      "Requirement already satisfied: packaging>=20.0 in /home/varunkapoor/anaconda3/envs/naparienv/lib/python3.9/site-packages (from dask[array]!=2.28.0,>=2.15.0->napari[all]) (21.3)\n",
      "Requirement already satisfied: cloudpickle>=1.1.1 in /home/varunkapoor/anaconda3/envs/naparienv/lib/python3.9/site-packages (from dask[array]!=2.28.0,>=2.15.0->napari[all]) (2.0.0)\n",
      "Requirement already satisfied: partd>=0.3.10 in /home/varunkapoor/anaconda3/envs/naparienv/lib/python3.9/site-packages (from dask[array]!=2.28.0,>=2.15.0->napari[all]) (1.2.0)\n",
      "Requirement already satisfied: pyrsistent!=0.17.0,!=0.17.1,!=0.17.2,>=0.14.0 in /home/varunkapoor/anaconda3/envs/naparienv/lib/python3.9/site-packages (from jsonschema>=3.2.0->napari[all]) (0.18.0)\n",
      "Requirement already satisfied: attrs>=17.4.0 in /home/varunkapoor/anaconda3/envs/naparienv/lib/python3.9/site-packages (from jsonschema>=3.2.0->napari[all]) (21.4.0)\n",
      "Requirement already satisfied: psygnal>=0.2.0 in /home/varunkapoor/anaconda3/envs/naparienv/lib/python3.9/site-packages (from magicgui>=0.3.3->napari[all]) (0.2.0)\n",
      "Requirement already satisfied: docstring-parser in /home/varunkapoor/anaconda3/envs/naparienv/lib/python3.9/site-packages (from magicgui>=0.3.3->napari[all]) (0.13)\n",
      "Requirement already satisfied: ipykernel>=5.2.0 in /home/varunkapoor/anaconda3/envs/naparienv/lib/python3.9/site-packages (from napari-console>=0.0.4->napari[all]) (6.7.0)\n",
      "Requirement already satisfied: qtconsole!=4.7.6,>=4.5.1 in /home/varunkapoor/anaconda3/envs/naparienv/lib/python3.9/site-packages (from napari-console>=0.0.4->napari[all]) (5.2.2)\n",
      "Requirement already satisfied: IPython>=7.7.0 in /home/varunkapoor/anaconda3/envs/naparienv/lib/python3.9/site-packages (from napari-console>=0.0.4->napari[all]) (7.30.1)\n",
      "Requirement already satisfied: debugpy<2.0,>=1.0.0 in /home/varunkapoor/anaconda3/envs/naparienv/lib/python3.9/site-packages (from ipykernel>=5.2.0->napari-console>=0.0.4->napari[all]) (1.5.1)\n",
      "Requirement already satisfied: nest-asyncio in /home/varunkapoor/anaconda3/envs/naparienv/lib/python3.9/site-packages (from ipykernel>=5.2.0->napari-console>=0.0.4->napari[all]) (1.5.1)\n",
      "Requirement already satisfied: jupyter-client<8.0 in /home/varunkapoor/anaconda3/envs/naparienv/lib/python3.9/site-packages (from ipykernel>=5.2.0->napari-console>=0.0.4->napari[all]) (7.1.0)\n",
      "Requirement already satisfied: matplotlib-inline<0.2.0,>=0.1.0 in /home/varunkapoor/anaconda3/envs/naparienv/lib/python3.9/site-packages (from ipykernel>=5.2.0->napari-console>=0.0.4->napari[all]) (0.1.3)\n",
      "Requirement already satisfied: traitlets<6.0,>=5.1.0 in /home/varunkapoor/anaconda3/envs/naparienv/lib/python3.9/site-packages (from ipykernel>=5.2.0->napari-console>=0.0.4->napari[all]) (5.1.1)\n",
      "Requirement already satisfied: tornado<7.0,>=4.2 in /home/varunkapoor/anaconda3/envs/naparienv/lib/python3.9/site-packages (from ipykernel>=5.2.0->napari-console>=0.0.4->napari[all]) (6.1)\n",
      "Requirement already satisfied: decorator in /home/varunkapoor/anaconda3/envs/naparienv/lib/python3.9/site-packages (from IPython>=7.7.0->napari-console>=0.0.4->napari[all]) (5.1.0)\n",
      "Requirement already satisfied: prompt-toolkit!=3.0.0,!=3.0.1,<3.1.0,>=2.0.0 in /home/varunkapoor/anaconda3/envs/naparienv/lib/python3.9/site-packages (from IPython>=7.7.0->napari-console>=0.0.4->napari[all]) (3.0.24)\n",
      "Requirement already satisfied: pickleshare in /home/varunkapoor/anaconda3/envs/naparienv/lib/python3.9/site-packages (from IPython>=7.7.0->napari-console>=0.0.4->napari[all]) (0.7.5)\n",
      "Requirement already satisfied: setuptools>=18.5 in /home/varunkapoor/anaconda3/envs/naparienv/lib/python3.9/site-packages (from IPython>=7.7.0->napari-console>=0.0.4->napari[all]) (58.0.4)\n",
      "Requirement already satisfied: pexpect>4.3 in /home/varunkapoor/anaconda3/envs/naparienv/lib/python3.9/site-packages (from IPython>=7.7.0->napari-console>=0.0.4->napari[all]) (4.8.0)\n",
      "Requirement already satisfied: pygments in /home/varunkapoor/anaconda3/envs/naparienv/lib/python3.9/site-packages (from IPython>=7.7.0->napari-console>=0.0.4->napari[all]) (2.11.1)\n",
      "Requirement already satisfied: jedi>=0.16 in /home/varunkapoor/anaconda3/envs/naparienv/lib/python3.9/site-packages (from IPython>=7.7.0->napari-console>=0.0.4->napari[all]) (0.18.1)\n",
      "Requirement already satisfied: backcall in /home/varunkapoor/anaconda3/envs/naparienv/lib/python3.9/site-packages (from IPython>=7.7.0->napari-console>=0.0.4->napari[all]) (0.2.0)\n",
      "Requirement already satisfied: parso<0.9.0,>=0.8.0 in /home/varunkapoor/anaconda3/envs/naparienv/lib/python3.9/site-packages (from jedi>=0.16->IPython>=7.7.0->napari-console>=0.0.4->napari[all]) (0.8.3)\n",
      "Requirement already satisfied: entrypoints in /home/varunkapoor/anaconda3/envs/naparienv/lib/python3.9/site-packages (from jupyter-client<8.0->ipykernel>=5.2.0->napari-console>=0.0.4->napari[all]) (0.3)\n",
      "Requirement already satisfied: jupyter-core>=4.6.0 in /home/varunkapoor/anaconda3/envs/naparienv/lib/python3.9/site-packages (from jupyter-client<8.0->ipykernel>=5.2.0->napari-console>=0.0.4->napari[all]) (4.9.1)\n",
      "Requirement already satisfied: pyzmq>=13 in /home/varunkapoor/anaconda3/envs/naparienv/lib/python3.9/site-packages (from jupyter-client<8.0->ipykernel>=5.2.0->napari-console>=0.0.4->napari[all]) (22.3.0)\n"
     ]
    },
    {
     "name": "stdout",
     "output_type": "stream",
     "text": [
      "Requirement already satisfied: python-dateutil>=2.1 in /home/varunkapoor/anaconda3/envs/naparienv/lib/python3.9/site-packages (from jupyter-client<8.0->ipykernel>=5.2.0->napari-console>=0.0.4->napari[all]) (2.8.2)\n",
      "Requirement already satisfied: intervaltree in /home/varunkapoor/anaconda3/envs/naparienv/lib/python3.9/site-packages (from npe2>=0.1.1->napari[all]) (3.1.0)\n",
      "Collecting typer\n",
      "  Using cached typer-0.4.0-py3-none-any.whl (27 kB)\n",
      "Collecting pytomlpp\n",
      "  Using cached pytomlpp-1.0.10-cp39-cp39-manylinux_2_12_x86_64.manylinux2010_x86_64.whl (2.7 MB)\n",
      "Requirement already satisfied: Jinja2>=2.3 in /home/varunkapoor/anaconda3/envs/naparienv/lib/python3.9/site-packages (from numpydoc>=0.9.2->napari[all]) (3.0.3)\n",
      "Requirement already satisfied: sphinx>=1.6.5 in /home/varunkapoor/anaconda3/envs/naparienv/lib/python3.9/site-packages (from numpydoc>=0.9.2->napari[all]) (4.3.2)\n",
      "Requirement already satisfied: MarkupSafe>=2.0 in /home/varunkapoor/anaconda3/envs/naparienv/lib/python3.9/site-packages (from Jinja2>=2.3->numpydoc>=0.9.2->napari[all]) (2.0.1)\n",
      "Requirement already satisfied: pyparsing!=3.0.5,>=2.0.2 in /home/varunkapoor/anaconda3/envs/naparienv/lib/python3.9/site-packages (from packaging>=20.0->dask[array]!=2.28.0,>=2.15.0->napari[all]) (3.0.6)\n",
      "Requirement already satisfied: pytz>=2017.3 in /home/varunkapoor/anaconda3/envs/naparienv/lib/python3.9/site-packages (from pandas>=1.1.0->napari[all]) (2021.3)\n",
      "Requirement already satisfied: locket in /home/varunkapoor/anaconda3/envs/naparienv/lib/python3.9/site-packages (from partd>=0.3.10->dask[array]!=2.28.0,>=2.15.0->napari[all]) (0.2.1)\n",
      "Requirement already satisfied: ptyprocess>=0.5 in /home/varunkapoor/anaconda3/envs/naparienv/lib/python3.9/site-packages (from pexpect>4.3->IPython>=7.7.0->napari-console>=0.0.4->napari[all]) (0.7.0)\n",
      "Requirement already satisfied: wcwidth in /home/varunkapoor/anaconda3/envs/naparienv/lib/python3.9/site-packages (from prompt-toolkit!=3.0.0,!=3.0.1,<3.1.0,>=2.0.0->IPython>=7.7.0->napari-console>=0.0.4->napari[all]) (0.2.5)\n",
      "Requirement already satisfied: PyQt5_sip<13,>=4.19.14 in /home/varunkapoor/anaconda3/envs/naparienv/lib/python3.9/site-packages (from PyQt5!=5.15.0,>=5.12.3->napari[all]) (12.9.0)\n",
      "Requirement already satisfied: six>=1.5 in /home/varunkapoor/anaconda3/envs/naparienv/lib/python3.9/site-packages (from python-dateutil>=2.1->jupyter-client<8.0->ipykernel>=5.2.0->napari-console>=0.0.4->napari[all]) (1.16.0)\n",
      "Requirement already satisfied: ipython-genutils in /home/varunkapoor/anaconda3/envs/naparienv/lib/python3.9/site-packages (from qtconsole!=4.7.6,>=4.5.1->napari-console>=0.0.4->napari[all]) (0.2.0)\n",
      "Requirement already satisfied: docutils<0.18,>=0.14 in /home/varunkapoor/anaconda3/envs/naparienv/lib/python3.9/site-packages (from sphinx>=1.6.5->numpydoc>=0.9.2->napari[all]) (0.17.1)\n",
      "Requirement already satisfied: sphinxcontrib-jsmath in /home/varunkapoor/anaconda3/envs/naparienv/lib/python3.9/site-packages (from sphinx>=1.6.5->numpydoc>=0.9.2->napari[all]) (1.0.1)\n",
      "Requirement already satisfied: sphinxcontrib-serializinghtml>=1.1.5 in /home/varunkapoor/anaconda3/envs/naparienv/lib/python3.9/site-packages (from sphinx>=1.6.5->numpydoc>=0.9.2->napari[all]) (1.1.5)\n",
      "Requirement already satisfied: babel>=1.3 in /home/varunkapoor/anaconda3/envs/naparienv/lib/python3.9/site-packages (from sphinx>=1.6.5->numpydoc>=0.9.2->napari[all]) (2.9.1)\n",
      "Requirement already satisfied: requests>=2.5.0 in /home/varunkapoor/anaconda3/envs/naparienv/lib/python3.9/site-packages (from sphinx>=1.6.5->numpydoc>=0.9.2->napari[all]) (2.26.0)\n",
      "Requirement already satisfied: alabaster<0.8,>=0.7 in /home/varunkapoor/anaconda3/envs/naparienv/lib/python3.9/site-packages (from sphinx>=1.6.5->numpydoc>=0.9.2->napari[all]) (0.7.12)\n",
      "Requirement already satisfied: sphinxcontrib-applehelp in /home/varunkapoor/anaconda3/envs/naparienv/lib/python3.9/site-packages (from sphinx>=1.6.5->numpydoc>=0.9.2->napari[all]) (1.0.2)\n",
      "Requirement already satisfied: imagesize in /home/varunkapoor/anaconda3/envs/naparienv/lib/python3.9/site-packages (from sphinx>=1.6.5->numpydoc>=0.9.2->napari[all]) (1.3.0)\n",
      "Requirement already satisfied: snowballstemmer>=1.1 in /home/varunkapoor/anaconda3/envs/naparienv/lib/python3.9/site-packages (from sphinx>=1.6.5->numpydoc>=0.9.2->napari[all]) (2.2.0)\n",
      "Requirement already satisfied: sphinxcontrib-qthelp in /home/varunkapoor/anaconda3/envs/naparienv/lib/python3.9/site-packages (from sphinx>=1.6.5->numpydoc>=0.9.2->napari[all]) (1.0.3)\n",
      "Requirement already satisfied: sphinxcontrib-devhelp in /home/varunkapoor/anaconda3/envs/naparienv/lib/python3.9/site-packages (from sphinx>=1.6.5->numpydoc>=0.9.2->napari[all]) (1.0.2)\n",
      "Requirement already satisfied: sphinxcontrib-htmlhelp>=2.0.0 in /home/varunkapoor/anaconda3/envs/naparienv/lib/python3.9/site-packages (from sphinx>=1.6.5->numpydoc>=0.9.2->napari[all]) (2.0.0)\n",
      "Requirement already satisfied: urllib3<1.27,>=1.21.1 in /home/varunkapoor/anaconda3/envs/naparienv/lib/python3.9/site-packages (from requests>=2.5.0->sphinx>=1.6.5->numpydoc>=0.9.2->napari[all]) (1.26.7)\n",
      "Requirement already satisfied: charset-normalizer~=2.0.0 in /home/varunkapoor/anaconda3/envs/naparienv/lib/python3.9/site-packages (from requests>=2.5.0->sphinx>=1.6.5->numpydoc>=0.9.2->napari[all]) (2.0.9)\n",
      "Requirement already satisfied: idna<4,>=2.5 in /home/varunkapoor/anaconda3/envs/naparienv/lib/python3.9/site-packages (from requests>=2.5.0->sphinx>=1.6.5->numpydoc>=0.9.2->napari[all]) (3.3)\n",
      "Requirement already satisfied: kiwisolver in /home/varunkapoor/anaconda3/envs/naparienv/lib/python3.9/site-packages (from vispy>=0.9.4->napari[all]) (1.3.2)\n",
      "Requirement already satisfied: freetype-py in /home/varunkapoor/anaconda3/envs/naparienv/lib/python3.9/site-packages (from vispy>=0.9.4->napari[all]) (2.2.0)\n",
      "Requirement already satisfied: hsluv in /home/varunkapoor/anaconda3/envs/naparienv/lib/python3.9/site-packages (from vispy>=0.9.4->napari[all]) (5.0.2)\n",
      "Requirement already satisfied: sortedcontainers<3.0,>=2.0 in /home/varunkapoor/anaconda3/envs/naparienv/lib/python3.9/site-packages (from intervaltree->npe2>=0.1.1->napari[all]) (2.4.0)\n",
      "Requirement already satisfied: networkx>=2.2 in /home/varunkapoor/anaconda3/envs/naparienv/lib/python3.9/site-packages (from scikit-image[data]->napari[all]) (2.6.3)\n",
      "Requirement already satisfied: PyWavelets>=1.1.1 in /home/varunkapoor/anaconda3/envs/naparienv/lib/python3.9/site-packages (from scikit-image[data]->napari[all]) (1.2.0)\n",
      "Requirement already satisfied: pooch>=1.3.0 in /home/varunkapoor/anaconda3/envs/naparienv/lib/python3.9/site-packages (from scikit-image[data]->napari[all]) (1.5.2)\n",
      "Requirement already satisfied: click<9.0.0,>=7.1.1 in /home/varunkapoor/anaconda3/envs/naparienv/lib/python3.9/site-packages (from typer->npe2>=0.1.1->napari[all]) (8.0.3)\n"
     ]
    }
   ],
>>>>>>> d75777278a54beca2769fb9bb5842fa08fd47cf5
   "source": [
    "!pip install --upgrade napari[all]\n",
    "import sys\n",
    "import os\n",
    "import glob\n",
    "sys.path.append(\"../\")\n",
    "from yoloneatviz import NEATViz\n",
    "\n",
    "%gui qt"
   ]
  },
  {
   "cell_type": "code",
   "execution_count": 2,
<<<<<<< HEAD
   "id": "eab77c93",
   "metadata": {},
   "outputs": [
    {
     "name": "stderr",
     "output_type": "stream",
     "text": [
      "WARNING: DirectWrite: CreateFontFaceFromHDC() failed (Indicates an error in an input file such as a font file.) for QFontDef(Family=\"\", pointsize=12, pixelsize=16, styleHint=5, weight=50, stretch=100, hintingPreference=0) LOGFONT(\"MS Sans Serif\", lfWidth=0, lfHeight=-16) dpi=96\n"
     ]
    },
    {
     "name": "stdout",
     "output_type": "stream",
     "text": [
      "PyDIPjavaio unavailable:\n",
      "DLL load failed while importing PyDIPjavaio: The specified module could not be found.\n",
      "\n",
      "libjvm not found\n",
=======
   "id": "22e3ac24",
   "metadata": {},
   "outputs": [
    {
     "name": "stdout",
     "output_type": "stream",
     "text": [
>>>>>>> d75777278a54beca2769fb9bb5842fa08fd47cf5
      "DIPlib -- a quantitative image analysis library\n",
      "Version 3.1.0 (Sep 24 2021)\n",
      "For more information see https://diplib.org\n"
     ]
    },
    {
     "data": {
      "image/png": "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\n",
      "text/plain": [
       "<Figure size 288x288 with 1 Axes>"
      ]
     },
     "metadata": {
      "needs_background": "light"
     },
     "output_type": "display_data"
    }
   ],
   "source": [
<<<<<<< HEAD
    "imagedir = '/Users/rando/Downloads/Hela_ONEAT/'\n",
    "heatmapdir = '/Users/rando/Downloads/Hela_ONEAT/Heat_Map/'\n",
    "csvdir = '/Users/rando/Downloads/Hela_ONEAT/Csv/'\n",
    "categories_json = '/Users/rando/Downloads/cellsplitcategories.json'\n",
    "fileextension = '*tif'\n",
    "thresh = 1.0 - 1.0E-2\n",
=======
    "imagedir = '/mnt/c/Users/rando/Downloads/Hela_ONEAT/'\n",
    "heatmapdir = '/mnt/c/Users/rando/Downloads/Hela_ONEAT/Heat_Map/'\n",
    "csvdir = '/mnt/c/Users/rando/Downloads/Hela_ONEAT/Csv/'\n",
    "categories_json = '/mnt/c/Users/rando/Downloads/Cellsplitcategories.json'\n",
    "fileextension = '*tif'\n",
    "thresh = 1.0 - 1.0E-4\n",
>>>>>>> d75777278a54beca2769fb9bb5842fa08fd47cf5
    "event_threshold = [thresh, thresh]\n",
    "Vizdetections = NEATViz(imagedir, heatmapdir, csvdir, categories_json, event_threshold, fileextension = fileextension)"
   ]
  },
  {
   "cell_type": "code",
   "execution_count": null,
<<<<<<< HEAD
   "id": "16628755",
=======
   "id": "7a69fe72",
>>>>>>> d75777278a54beca2769fb9bb5842fa08fd47cf5
   "metadata": {},
   "outputs": [],
   "source": []
  }
 ],
 "metadata": {
  "kernelspec": {
   "display_name": "Python [conda env:naparienv] *",
   "language": "python",
   "name": "conda-env-naparienv-py"
  },
  "language_info": {
   "codemirror_mode": {
    "name": "ipython",
    "version": 3
   },
   "file_extension": ".py",
   "mimetype": "text/x-python",
   "name": "python",
   "nbconvert_exporter": "python",
   "pygments_lexer": "ipython3",
   "version": "3.9.0"
  }
 },
 "nbformat": 4,
 "nbformat_minor": 5
}
